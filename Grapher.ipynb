{
 "cells": [
  {
   "cell_type": "code",
   "execution_count": 1,
   "metadata": {},
   "outputs": [
    {
     "name": "stdout",
     "output_type": "stream",
     "text": [
      "Using matplotlib backend: MacOSX\n"
     ]
    }
   ],
   "source": [
    "%matplotlib\n",
    "\n",
    "import numpy as np\n",
    "import matplotlib.pyplot as plt\n",
    "from ipywidgets import interact\n",
    "from ipywidgets import FloatSlider\n",
    "\n",
    "def cartesian_product(*arrays):\n",
    "    return np.array(np.meshgrid(*arrays)).T.reshape(-1, len(arrays))\n",
    "\n",
    "def graph(x, fn=None, y=None, eqn=None, xlim=None, ylim=None, title=None, fn_params=None, fn_sliders=None):\n",
    "    '''\n",
    "    Can graph functions f(x), implicit equations f(x,y)=g(x,y),\n",
    "    and approximate binary relations of {(x,y): f(x,y)==True}\n",
    "    \n",
    "    Graphing f(x) requires\n",
    "        x: numpy.ndarray\n",
    "        fn: function of x\n",
    "        y=None\n",
    "        eqn=None\n",
    "\n",
    "    Graphing f(x,y)=g(x,y) requires\n",
    "        x: numpy.ndarray\n",
    "        y: numpy.ndarray\n",
    "        eqn: {'lhs': f, 'rhs': g}\n",
    "\n",
    "    Graphing binary relation requires\n",
    "        x: numpy.ndarray\n",
    "        y: numpy.ndarray\n",
    "        fn: binary relation (boolean function) on x and y\n",
    "        eqn=None\n",
    "    \n",
    "    fn_params (optional): dictionary of numpy.ndarrays\n",
    "    fn_sliders (optional): list of dictionary parameters:\n",
    "        {'name', 'min', 'max', 'value'}\n",
    "    \n",
    "    functions fn, eqn['lhs'], eqn['rhs'] should handle additional\n",
    "    parameters if defined in fn_params and fn_sliders\n",
    "    '''\n",
    "    def init(ax):\n",
    "        if xlim is not None: ax.set_xlim(xlim)\n",
    "        if ylim is not None: ax.set_ylim(ylim)\n",
    "        if title is not None: ax.set_title(title)\n",
    "        ax.grid(True, which='both')\n",
    "        # set the x-spine (see below for more info on `set_position`)\n",
    "        ax.spines['left'].set_position('zero')\n",
    "        # turn off the right spine/ticks\n",
    "        ax.spines['right'].set_color('none')\n",
    "        ax.yaxis.tick_left()\n",
    "        # set the y-spine\n",
    "        ax.spines['bottom'].set_position('zero')\n",
    "        # turn off the top spine/ticks\n",
    "        ax.spines['top'].set_color('none')\n",
    "        ax.xaxis.tick_bottom()\n",
    "    \n",
    "    fig, ax = plt.subplots()\n",
    "    init(ax)\n",
    "    if y is not None:\n",
    "        if eqn is None: domain = cartesian_product(x, y)\n",
    "        else:\n",
    "            X, Y = np.meshgrid(x, y)\n",
    "            lhs, rhs = eqn['lhs'], eqn['rhs']\n",
    "    param_list = []\n",
    "    plots = []\n",
    "    if fn_sliders is None: args = {}\n",
    "    else: args = {slider['name']: slider['value'] for slider in fn_sliders}\n",
    "    if fn_params is None:\n",
    "        param_list.append({})\n",
    "        if y is None: plot, = ax.plot(x, fn(x, **args), '-')\n",
    "        else:\n",
    "            if eqn is None:\n",
    "                x_data, y_data = [], []\n",
    "                for pt in domain:\n",
    "                    if fn(x=pt[0], y=pt[1], **args):\n",
    "                        x_data.append(pt[0])\n",
    "                        y_data.append(pt[1])\n",
    "                plot, = ax.plot(x_data, y_data, '.')\n",
    "            else: plot = ax.contour(\n",
    "                X, Y, lhs(X, Y, **args) - rhs(X, Y, **args), [0]\n",
    "            )\n",
    "        plots.append(plot)\n",
    "    else:\n",
    "        if len(fn_params) == 1:\n",
    "            k = list(fn_params.keys())[0]\n",
    "            param_list = [{k: v} for v in fn_params[k]]\n",
    "        else:\n",
    "            param_space = cartesian_product(*[v for k, v in fn_params.items()])\n",
    "            for row in param_space:\n",
    "                params = {}\n",
    "                for k, v in zip(fn_params, row):\n",
    "                    params[k] = v\n",
    "                param_list.append(params)\n",
    "        for params in param_list:\n",
    "            label = \"\"\n",
    "            for k, v in params.items():\n",
    "                label += k + '=' + str(v) + ','\n",
    "            if y is None: plot, = ax.plot(x, fn(x, **params, **args), '-', label=label)\n",
    "            else:\n",
    "                if eqn is None:\n",
    "                    x_data, y_data = [], []\n",
    "                    for pt in domain:\n",
    "                        if fn(x=pt[0], y=pt[1], **params, **args):\n",
    "                            x_data.append(pt[0])\n",
    "                            y_data.append(pt[1])\n",
    "                    plot, = ax.plot(x_data, y_data, '.', label=label)\n",
    "                else: plot = ax.contour(\n",
    "                    X, Y, lhs(X, Y, **params, **args)-rhs(X, Y, **params, **args), [0]\n",
    "                )\n",
    "            plots.append(plot)\n",
    "        ax.legend()\n",
    "\n",
    "    if fn_sliders is not None:\n",
    "        def update(**args):\n",
    "            if y is None:\n",
    "                for i, params in enumerate(param_list):\n",
    "                    plots[i].set_ydata(fn(x, **params, **args))\n",
    "            elif eqn is None:\n",
    "                for i, params in enumerate(param_list):\n",
    "                    x_data, y_data = [], []\n",
    "                    for pt in domain:\n",
    "                        if fn(x=pt[0], y=pt[1], **params, **args):\n",
    "                            x_data.append(pt[0])\n",
    "                            y_data.append(pt[1])\n",
    "                    plots[i].set_xdata(x_data)\n",
    "                    plots[i].set_ydata(y_data)\n",
    "            else:\n",
    "                for i, params in enumerate(param_list):\n",
    "                    ax.clear()\n",
    "                    init(ax)\n",
    "                    ax.contour(\n",
    "                        X, Y,\n",
    "                        lhs(X, Y, **params, **args)-rhs(X, Y, **params, **args),\n",
    "                        [0]\n",
    "                    )\n",
    "            fig.canvas.draw()\n",
    "\n",
    "        sliders = {slider['name']: FloatSlider(\n",
    "            min=slider['min'], max=slider['max'], value=slider['value'],\n",
    "            step=0.01*(slider['max']-slider['min']), continuous_update=False\n",
    "        ) for slider in fn_sliders}\n",
    "        interact(update, **sliders)"
   ]
  },
  {
   "cell_type": "code",
   "execution_count": 2,
   "metadata": {},
   "outputs": [
    {
     "data": {
      "application/vnd.jupyter.widget-view+json": {
       "model_id": "21a1265201864a47a7b1c80feb74d494",
       "version_major": 2,
       "version_minor": 0
      },
      "text/plain": [
       "interactive(children=(FloatSlider(value=-2.0, continuous_update=False, description='a', max=5.0, min=-5.0), Ou…"
      ]
     },
     "metadata": {},
     "output_type": "display_data"
    }
   ],
   "source": [
    "graph(\n",
    "    x=np.linspace(-3, 3, 100),\n",
    "    y=np.linspace(-3, 3, 100),\n",
    "    fn=lambda x, y, a, b: np.isclose(y**2, x**3+a*x+b, rtol=0.2),\n",
    "    xlim=(-3, 3), ylim=(-3, 3),\n",
    "    title=r'$y^2=x^3+ax+b$',\n",
    "    fn_params={'b': np.linspace(-5, 5, 5)},\n",
    "    fn_sliders=[\n",
    "        {'name': 'a', 'min': -5, 'max': 5, 'value': -2},\n",
    "    ]\n",
    ")"
   ]
  },
  {
   "cell_type": "code",
   "execution_count": 3,
   "metadata": {},
   "outputs": [
    {
     "data": {
      "application/vnd.jupyter.widget-view+json": {
       "model_id": "05f19c3543474d7c8a076b1041f91e8a",
       "version_major": 2,
       "version_minor": 0
      },
      "text/plain": [
       "interactive(children=(FloatSlider(value=-2.0, continuous_update=False, description='a', max=5.0, min=-5.0), Fl…"
      ]
     },
     "metadata": {},
     "output_type": "display_data"
    }
   ],
   "source": [
    "graph(\n",
    "    x=np.linspace(-3, 3, 100),\n",
    "    y=np.linspace(-3, 3, 100),\n",
    "    eqn={\n",
    "        'lhs': lambda x, y, a, b: y**2,\n",
    "        'rhs': lambda x, y, a, b: x**3+a*x+b\n",
    "    },\n",
    "    xlim=(-3, 3), ylim=(-3, 3),\n",
    "    title=r'$y^2=x^3+ax+b$',\n",
    "    #fn_params={'b': np.linspace(-3, 3, 3)}, broken\n",
    "    fn_sliders=[\n",
    "        {'name': 'a', 'min': -5, 'max': 5, 'value': -2},\n",
    "        {'name': 'b', 'min': -5, 'max': 5, 'value': 1}\n",
    "    ]\n",
    ")"
   ]
  },
  {
   "cell_type": "code",
   "execution_count": 4,
   "metadata": {},
   "outputs": [
    {
     "data": {
      "application/vnd.jupyter.widget-view+json": {
       "model_id": "b417afaa3aab4abb9ec73f4c8191bd24",
       "version_major": 2,
       "version_minor": 0
      },
      "text/plain": [
       "interactive(children=(FloatSlider(value=1.0, continuous_update=False, description='b', max=2.0, min=-2.0, step…"
      ]
     },
     "metadata": {},
     "output_type": "display_data"
    }
   ],
   "source": [
    "graph(\n",
    "    x=np.linspace(-10, 10, 1000),\n",
    "    fn=lambda x, a, b, c: a*x**2+b*x+c,\n",
    "    xlim=(-7, 7), ylim=(-7, 7),\n",
    "    title=r'$y(x)=ax^2+bx+c$',\n",
    "    fn_params={\n",
    "        'a': np.linspace(-1, 1, 3),\n",
    "        'c': np.linspace(-2, 2, 3),\n",
    "    },\n",
    "    fn_sliders=[{'name': 'b', 'min': -2, 'max': 2, 'value': 1}]\n",
    ")"
   ]
  },
  {
   "cell_type": "code",
   "execution_count": 5,
   "metadata": {},
   "outputs": [
    {
     "data": {
      "application/vnd.jupyter.widget-view+json": {
       "model_id": "bade8b1c0391407090b4535d34a62178",
       "version_major": 2,
       "version_minor": 0
      },
      "text/plain": [
       "interactive(children=(FloatSlider(value=1.0, continuous_update=False, description='k', max=2.0, min=-2.0, step…"
      ]
     },
     "metadata": {},
     "output_type": "display_data"
    }
   ],
   "source": [
    "graph(\n",
    "    x=np.linspace(-10, 10, 1000),\n",
    "    fn=lambda x, C, k, alpha, omega: C*np.exp(-k*x)+k*alpha/(omega**2+k**2)*(-omega*np.cos(omega*x)+k*np.sin(omega*x)),\n",
    "    xlim=(-7, 7), ylim=(-7, 7),\n",
    "    title=r'$y(t)=Ce^{-kt}+\\frac{k\\alpha}{\\omega^2+k^2}(-\\omega\\cos{\\omega t}+k\\sin{\\omega t})$',\n",
    "    fn_params={'C': np.linspace(-5, 5, 5)},\n",
    "    fn_sliders=[\n",
    "        {'name': 'k', 'min': -2, 'max': 2, 'value': 1},\n",
    "        {'name': 'alpha', 'min': -2, 'max': 2, 'value': 1},\n",
    "        {'name': 'omega', 'min': -2, 'max': 2, 'value': 1}\n",
    "    ]\n",
    ")"
   ]
  },
  {
   "cell_type": "code",
   "execution_count": 6,
   "metadata": {},
   "outputs": [],
   "source": [
    "graph(\n",
    "    x=np.linspace(-10, 10, 1000),\n",
    "    fn=lambda x, C: (2*x+C) * np.exp(-(x**2)),\n",
    "    xlim=(-5, 5), ylim=(-5, 5),\n",
    "    title=r'$y(x)=e^{-x^2}(2x+C)$',\n",
    "    fn_params={'C': np.linspace(-5, 5, 5)}\n",
    ")"
   ]
  },
  {
   "cell_type": "code",
   "execution_count": 7,
   "metadata": {},
   "outputs": [],
   "source": [
    "graph(\n",
    "    x=np.linspace(-10, 10, 1000),\n",
    "    fn=lambda x, C: C*np.exp(-3*x)+x-1/3+2/5*np.exp(2*x)+4/13*(3*np.cos(2*x)+2*np.sin(2*x)),\n",
    "    xlim=(-5, 5), ylim=(-10, 10),\n",
    "    title=r'$y(x)=Ce^{-3x}+x-\\frac{1}{3}+\\frac{2}{5}e^{2x}+\\frac{4}{13}(3\\cos{2x}+2\\sin{2x})$',\n",
    "    fn_params={'C': np.linspace(-5, 5, 5)}\n",
    ")"
   ]
  }
 ],
 "metadata": {
  "kernelspec": {
   "display_name": "Python 3",
   "language": "python",
   "name": "python3"
  },
  "language_info": {
   "codemirror_mode": {
    "name": "ipython",
    "version": 3
   },
   "file_extension": ".py",
   "mimetype": "text/x-python",
   "name": "python",
   "nbconvert_exporter": "python",
   "pygments_lexer": "ipython3",
   "version": "3.8.5"
  }
 },
 "nbformat": 4,
 "nbformat_minor": 4
}
